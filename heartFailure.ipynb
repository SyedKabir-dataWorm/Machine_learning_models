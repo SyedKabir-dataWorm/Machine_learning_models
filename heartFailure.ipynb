{
 "cells": [
  {
   "cell_type": "markdown",
   "metadata": {},
   "source": [
    "# 1. Retrieving and Preparing the Heart Failure Data-set"
   ]
  },
  {
   "cell_type": "code",
   "execution_count": 1,
   "metadata": {},
   "outputs": [],
   "source": [
    "import pandas as pd\n",
    "import matplotlib.pyplot as plt\n",
    "import numpy as np\n",
    "import seaborn as sns\n",
    "import graphviz"
   ]
  },
  {
   "cell_type": "code",
   "execution_count": 2,
   "metadata": {
    "scrolled": true
   },
   "outputs": [
    {
     "data": {
      "text/html": [
       "<div>\n",
       "<style scoped>\n",
       "    .dataframe tbody tr th:only-of-type {\n",
       "        vertical-align: middle;\n",
       "    }\n",
       "\n",
       "    .dataframe tbody tr th {\n",
       "        vertical-align: top;\n",
       "    }\n",
       "\n",
       "    .dataframe thead th {\n",
       "        text-align: right;\n",
       "    }\n",
       "</style>\n",
       "<table border=\"1\" class=\"dataframe\">\n",
       "  <thead>\n",
       "    <tr style=\"text-align: right;\">\n",
       "      <th></th>\n",
       "      <th>age</th>\n",
       "      <th>anaemia</th>\n",
       "      <th>creatinine_phosphokinase</th>\n",
       "      <th>diabetes</th>\n",
       "      <th>ejection_fraction</th>\n",
       "      <th>high_blood_pressure</th>\n",
       "      <th>platelets</th>\n",
       "      <th>serum_creatinine</th>\n",
       "      <th>serum_sodium</th>\n",
       "      <th>sex</th>\n",
       "      <th>smoking</th>\n",
       "      <th>time</th>\n",
       "      <th>DEATH_EVENT</th>\n",
       "    </tr>\n",
       "  </thead>\n",
       "  <tbody>\n",
       "    <tr>\n",
       "      <th>0</th>\n",
       "      <td>75.0</td>\n",
       "      <td>0</td>\n",
       "      <td>582</td>\n",
       "      <td>0</td>\n",
       "      <td>20</td>\n",
       "      <td>1</td>\n",
       "      <td>265000.00</td>\n",
       "      <td>1.9</td>\n",
       "      <td>130</td>\n",
       "      <td>1</td>\n",
       "      <td>0</td>\n",
       "      <td>4</td>\n",
       "      <td>1</td>\n",
       "    </tr>\n",
       "    <tr>\n",
       "      <th>1</th>\n",
       "      <td>55.0</td>\n",
       "      <td>0</td>\n",
       "      <td>7861</td>\n",
       "      <td>0</td>\n",
       "      <td>38</td>\n",
       "      <td>0</td>\n",
       "      <td>263358.03</td>\n",
       "      <td>1.1</td>\n",
       "      <td>136</td>\n",
       "      <td>1</td>\n",
       "      <td>0</td>\n",
       "      <td>6</td>\n",
       "      <td>1</td>\n",
       "    </tr>\n",
       "    <tr>\n",
       "      <th>2</th>\n",
       "      <td>65.0</td>\n",
       "      <td>0</td>\n",
       "      <td>146</td>\n",
       "      <td>0</td>\n",
       "      <td>20</td>\n",
       "      <td>0</td>\n",
       "      <td>162000.00</td>\n",
       "      <td>1.3</td>\n",
       "      <td>129</td>\n",
       "      <td>1</td>\n",
       "      <td>1</td>\n",
       "      <td>7</td>\n",
       "      <td>1</td>\n",
       "    </tr>\n",
       "    <tr>\n",
       "      <th>3</th>\n",
       "      <td>50.0</td>\n",
       "      <td>1</td>\n",
       "      <td>111</td>\n",
       "      <td>0</td>\n",
       "      <td>20</td>\n",
       "      <td>0</td>\n",
       "      <td>210000.00</td>\n",
       "      <td>1.9</td>\n",
       "      <td>137</td>\n",
       "      <td>1</td>\n",
       "      <td>0</td>\n",
       "      <td>7</td>\n",
       "      <td>1</td>\n",
       "    </tr>\n",
       "    <tr>\n",
       "      <th>4</th>\n",
       "      <td>65.0</td>\n",
       "      <td>1</td>\n",
       "      <td>160</td>\n",
       "      <td>1</td>\n",
       "      <td>20</td>\n",
       "      <td>0</td>\n",
       "      <td>327000.00</td>\n",
       "      <td>2.7</td>\n",
       "      <td>116</td>\n",
       "      <td>0</td>\n",
       "      <td>0</td>\n",
       "      <td>8</td>\n",
       "      <td>1</td>\n",
       "    </tr>\n",
       "  </tbody>\n",
       "</table>\n",
       "</div>"
      ],
      "text/plain": [
       "    age  anaemia  creatinine_phosphokinase  diabetes  ejection_fraction  \\\n",
       "0  75.0        0                       582         0                 20   \n",
       "1  55.0        0                      7861         0                 38   \n",
       "2  65.0        0                       146         0                 20   \n",
       "3  50.0        1                       111         0                 20   \n",
       "4  65.0        1                       160         1                 20   \n",
       "\n",
       "   high_blood_pressure  platelets  serum_creatinine  serum_sodium  sex  \\\n",
       "0                    1  265000.00               1.9           130    1   \n",
       "1                    0  263358.03               1.1           136    1   \n",
       "2                    0  162000.00               1.3           129    1   \n",
       "3                    0  210000.00               1.9           137    1   \n",
       "4                    0  327000.00               2.7           116    0   \n",
       "\n",
       "   smoking  time  DEATH_EVENT  \n",
       "0        0     4            1  \n",
       "1        0     6            1  \n",
       "2        1     7            1  \n",
       "3        0     7            1  \n",
       "4        0     8            1  "
      ]
     },
     "execution_count": 2,
     "metadata": {},
     "output_type": "execute_result"
    }
   ],
   "source": [
    "heartFailure=pd.read_csv(\"heart_failure_clinical_records_dataset.csv\")\n",
    "heartFailure.head()"
   ]
  },
  {
   "cell_type": "code",
   "execution_count": 3,
   "metadata": {},
   "outputs": [
    {
     "data": {
      "text/plain": [
       "(299, 13)"
      ]
     },
     "execution_count": 3,
     "metadata": {},
     "output_type": "execute_result"
    }
   ],
   "source": [
    "heartFailure.shape"
   ]
  },
  {
   "cell_type": "code",
   "execution_count": 4,
   "metadata": {},
   "outputs": [
    {
     "data": {
      "text/plain": [
       "Index(['age', 'anaemia', 'creatinine_phosphokinase', 'diabetes',\n",
       "       'ejection_fraction', 'high_blood_pressure', 'platelets',\n",
       "       'serum_creatinine', 'serum_sodium', 'sex', 'smoking', 'time',\n",
       "       'DEATH_EVENT'],\n",
       "      dtype='object')"
      ]
     },
     "execution_count": 4,
     "metadata": {},
     "output_type": "execute_result"
    }
   ],
   "source": [
    "heartFailure.columns\n"
   ]
  },
  {
   "cell_type": "markdown",
   "metadata": {},
   "source": [
    "## Data Description:"
   ]
  },
  {
   "cell_type": "markdown",
   "metadata": {},
   "source": [
    "Ejection_fraction = Ejection fraction (EF) is a measurement, expressed as a percentage,\n",
    "                     of how much blood the left ventricle pumps out with each contraction. \n",
    "\n",
    "anaemia: decrease of red blood cells or hemoglobin (boolean)\n",
    "high blood pressure: if the patient has hypertension (boolean)\n",
    " \n",
    "creatinine_phosphokinase =  an enzyme in the body. It is found mainly in the heart, brain, and skeletal muscle.\n",
    "                            The CPK normal range for a male is between 39 – 308 U/L, \n",
    "                            while in females the CPK normal range is between 26 – 192 U/L.\n",
    " \n",
    "Platelets = The cells that circulate within our blood and bind together when they recognize damaged blood vessels.\n",
    "             A normal platelet count ranges from 150,000 to 450,000 platelets per microliter of blood.\n",
    "\n",
    "serum_creatinine = An increased level of creatinine may be a sign of poor kidney function.\n",
    "                    The typical range for serum creatinine is: For adult men, 0.74 to 1.35 mg/dL \n",
    "                    For adult women, 0.59 to 1.04 mg/dL (52.2 to 91.9 micromoles/L)\n",
    "\n",
    "serum_sodium = A measurement in assessing electrolyte, acid-base, and water balance, as well as renal function.\n",
    "               The reference range for serum sodium is 135-147 mmol/L.\\\n",
    "sex: woman[0] or man[1] (binary)\\\n",
    "smoking: if the patient smokes or not (boolean)\\\n",
    "time: follow-up period (days)\\\n",
    "[target] death event: if the patient deceased during the follow-up period (boolean)"
   ]
  },
  {
   "cell_type": "markdown",
   "metadata": {},
   "source": [
    "## Data Preparation"
   ]
  },
  {
   "cell_type": "code",
   "execution_count": 5,
   "metadata": {},
   "outputs": [
    {
     "data": {
      "text/plain": [
       "age                         0\n",
       "anaemia                     0\n",
       "creatinine_phosphokinase    0\n",
       "diabetes                    0\n",
       "ejection_fraction           0\n",
       "high_blood_pressure         0\n",
       "platelets                   0\n",
       "serum_creatinine            0\n",
       "serum_sodium                0\n",
       "sex                         0\n",
       "smoking                     0\n",
       "time                        0\n",
       "DEATH_EVENT                 0\n",
       "dtype: int64"
      ]
     },
     "execution_count": 5,
     "metadata": {},
     "output_type": "execute_result"
    }
   ],
   "source": [
    "# Searching null values\n",
    "heartFailure.isnull().sum()"
   ]
  },
  {
   "cell_type": "code",
   "execution_count": 6,
   "metadata": {},
   "outputs": [
    {
     "data": {
      "text/plain": [
       "age                         float64\n",
       "anaemia                       int64\n",
       "creatinine_phosphokinase      int64\n",
       "diabetes                      int64\n",
       "ejection_fraction             int64\n",
       "high_blood_pressure           int64\n",
       "platelets                   float64\n",
       "serum_creatinine            float64\n",
       "serum_sodium                  int64\n",
       "sex                           int64\n",
       "smoking                       int64\n",
       "time                          int64\n",
       "DEATH_EVENT                   int64\n",
       "dtype: object"
      ]
     },
     "execution_count": 6,
     "metadata": {},
     "output_type": "execute_result"
    }
   ],
   "source": [
    "heartFailure.dtypes"
   ]
  },
  {
   "cell_type": "code",
   "execution_count": 7,
   "metadata": {},
   "outputs": [
    {
     "data": {
      "text/html": [
       "<div>\n",
       "<style scoped>\n",
       "    .dataframe tbody tr th:only-of-type {\n",
       "        vertical-align: middle;\n",
       "    }\n",
       "\n",
       "    .dataframe tbody tr th {\n",
       "        vertical-align: top;\n",
       "    }\n",
       "\n",
       "    .dataframe thead th {\n",
       "        text-align: right;\n",
       "    }\n",
       "</style>\n",
       "<table border=\"1\" class=\"dataframe\">\n",
       "  <thead>\n",
       "    <tr style=\"text-align: right;\">\n",
       "      <th></th>\n",
       "      <th>age</th>\n",
       "      <th>anaemia</th>\n",
       "      <th>creatinine_phosphokinase</th>\n",
       "      <th>diabetes</th>\n",
       "      <th>ejection_fraction</th>\n",
       "      <th>high_blood_pressure</th>\n",
       "      <th>platelets</th>\n",
       "      <th>serum_creatinine</th>\n",
       "      <th>serum_sodium</th>\n",
       "      <th>sex</th>\n",
       "      <th>smoking</th>\n",
       "      <th>time</th>\n",
       "      <th>DEATH_EVENT</th>\n",
       "    </tr>\n",
       "  </thead>\n",
       "  <tbody>\n",
       "    <tr>\n",
       "      <th>count</th>\n",
       "      <td>299.0</td>\n",
       "      <td>299.0</td>\n",
       "      <td>299.0</td>\n",
       "      <td>299.0</td>\n",
       "      <td>299.0</td>\n",
       "      <td>299.0</td>\n",
       "      <td>299.0</td>\n",
       "      <td>299.0</td>\n",
       "      <td>299.0</td>\n",
       "      <td>299.0</td>\n",
       "      <td>299.0</td>\n",
       "      <td>299.0</td>\n",
       "      <td>299.0</td>\n",
       "    </tr>\n",
       "    <tr>\n",
       "      <th>max</th>\n",
       "      <td>95.0</td>\n",
       "      <td>1.0</td>\n",
       "      <td>7861.0</td>\n",
       "      <td>1.0</td>\n",
       "      <td>80.0</td>\n",
       "      <td>1.0</td>\n",
       "      <td>850000.0</td>\n",
       "      <td>9.4</td>\n",
       "      <td>148.0</td>\n",
       "      <td>1.0</td>\n",
       "      <td>1.0</td>\n",
       "      <td>285.0</td>\n",
       "      <td>1.0</td>\n",
       "    </tr>\n",
       "    <tr>\n",
       "      <th>min</th>\n",
       "      <td>40.0</td>\n",
       "      <td>0.0</td>\n",
       "      <td>23.0</td>\n",
       "      <td>0.0</td>\n",
       "      <td>14.0</td>\n",
       "      <td>0.0</td>\n",
       "      <td>25100.0</td>\n",
       "      <td>0.5</td>\n",
       "      <td>113.0</td>\n",
       "      <td>0.0</td>\n",
       "      <td>0.0</td>\n",
       "      <td>4.0</td>\n",
       "      <td>0.0</td>\n",
       "    </tr>\n",
       "  </tbody>\n",
       "</table>\n",
       "</div>"
      ],
      "text/plain": [
       "         age  anaemia  creatinine_phosphokinase  diabetes  ejection_fraction  \\\n",
       "count  299.0    299.0                     299.0     299.0              299.0   \n",
       "max     95.0      1.0                    7861.0       1.0               80.0   \n",
       "min     40.0      0.0                      23.0       0.0               14.0   \n",
       "\n",
       "       high_blood_pressure  platelets  serum_creatinine  serum_sodium    sex  \\\n",
       "count                299.0      299.0             299.0         299.0  299.0   \n",
       "max                    1.0   850000.0               9.4         148.0    1.0   \n",
       "min                    0.0    25100.0               0.5         113.0    0.0   \n",
       "\n",
       "       smoking   time  DEATH_EVENT  \n",
       "count    299.0  299.0        299.0  \n",
       "max        1.0  285.0          1.0  \n",
       "min        0.0    4.0          0.0  "
      ]
     },
     "execution_count": 7,
     "metadata": {},
     "output_type": "execute_result"
    }
   ],
   "source": [
    "# Searching in appropriate values\n",
    "heartFailure.describe().loc[['count','max','min']]\n",
    "\n",
    "# So, all data of anemia, diabetes, high_blood_pressure,sex,smoking death_event are valid data \n",
    "# as those are either boolean or binary.\n",
    "# Data of age, ejection_fraction,serum_creatinine, serum_sodium, time features also valid.\n",
    "# Let's check data of creatinine_phosphokinase,platelets,ejection_fraction. "
   ]
  },
  {
   "cell_type": "code",
   "execution_count": 8,
   "metadata": {},
   "outputs": [
    {
     "data": {
      "image/png": "[encoded data removed]",
      "text/plain": [
       "<Figure size 1440x1296 with 12 Axes>"
      ]
     },
     "metadata": {
      "needs_background": "light"
     },
     "output_type": "display_data"
    }
   ],
   "source": [
    "#Check all the numerical data\n",
    "plt.figure(figsize=(20,18))\n",
    "plt.subplots_adjust()\n",
    "i = 1\n",
    "\n",
    "for col in heartFailure.columns:\n",
    "    if (heartFailure[col].dtypes == np.float64 or heartFailure[col].dtypes == np.int64) and col !='DEATH_EVENT':\n",
    "            plt.subplot(3,4,i)\n",
    "            sns.boxplot(x='DEATH_EVENT',y=col,data=heartFailure)\n",
    "            i = i+1\n",
    "            plt.title(col) \n",
    "\n",
    "plt.show()"
   ]
  },
  {
   "cell_type": "code",
   "execution_count": 9,
   "metadata": {},
   "outputs": [
    {
     "name": "stdout",
     "output_type": "stream",
     "text": [
      "Number of rows with creatinine_phosphokinase > 3000:  7\n",
      "Number of rows with platelets > 600000:  3\n",
      "Number of rows with serum_creatinine > 5:  5\n",
      "Number of rows with serum_sodium < 120:  2\n"
     ]
    }
   ],
   "source": [
    "print(\"Number of rows with creatinine_phosphokinase > 3000: \", np.sum(heartFailure['creatinine_phosphokinase']>3000))\n",
    "print(\"Number of rows with platelets > 600000: \", np.sum(heartFailure['platelets']>600000))\n",
    "print(\"Number of rows with serum_creatinine > 5: \", np.sum(heartFailure['serum_creatinine']>5))\n",
    "print(\"Number of rows with serum_sodium < 120: \", np.sum(heartFailure['serum_sodium']<120))"
   ]
  },
  {
   "cell_type": "code",
   "execution_count": 10,
   "metadata": {},
   "outputs": [],
   "source": [
    "# removing outliers\n",
    "heartFailure = heartFailure.loc[(heartFailure['creatinine_phosphokinase']<3000) & (heartFailure['platelets']<600000) &\n",
    "                                    (heartFailure['serum_creatinine']<5) & (heartFailure['serum_sodium']>120)]"
   ]
  },
  {
   "cell_type": "code",
   "execution_count": 11,
   "metadata": {},
   "outputs": [
    {
     "data": {
      "text/plain": [
       "(282, 13)"
      ]
     },
     "execution_count": 11,
     "metadata": {},
     "output_type": "execute_result"
    }
   ],
   "source": [
    "heartFailure.shape"
   ]
  },
  {
   "cell_type": "markdown",
   "metadata": {},
   "source": [
    "## 2. Data Exploration"
   ]
  },
  {
   "cell_type": "code",
   "execution_count": 12,
   "metadata": {},
   "outputs": [],
   "source": [
    "patientDead=heartFailure[heartFailure['DEATH_EVENT']==1]"
   ]
  },
  {
   "cell_type": "code",
   "execution_count": 13,
   "metadata": {},
   "outputs": [],
   "source": [
    "patientAlive=heartFailure[heartFailure['DEATH_EVENT']==0]"
   ]
  },
  {
   "cell_type": "markdown",
   "metadata": {},
   "source": [
    "### 2.1 Exploration of Each Column"
   ]
  },
  {
   "cell_type": "markdown",
   "metadata": {},
   "source": [
    "#### 2.1.1 Exploration of 'age' Feature"
   ]
  },
  {
   "cell_type": "code",
   "execution_count": 14,
   "metadata": {
    "scrolled": true
   },
   "outputs": [
    {
     "data": {
      "text/html": [
       "<div>\n",
       "<style scoped>\n",
       "    .dataframe tbody tr th:only-of-type {\n",
       "        vertical-align: middle;\n",
       "    }\n",
       "\n",
       "    .dataframe tbody tr th {\n",
       "        vertical-align: top;\n",
       "    }\n",
       "\n",
       "    .dataframe thead tr th {\n",
       "        text-align: left;\n",
       "    }\n",
       "\n",
       "    .dataframe thead tr:last-of-type th {\n",
       "        text-align: right;\n",
       "    }\n",
       "</style>\n",
       "<table border=\"1\" class=\"dataframe\">\n",
       "  <thead>\n",
       "    <tr>\n",
       "      <th></th>\n",
       "      <th colspan=\"8\" halign=\"left\">age</th>\n",
       "    </tr>\n",
       "    <tr>\n",
       "      <th></th>\n",
       "      <th>count</th>\n",
       "      <th>mean</th>\n",
       "      <th>std</th>\n",
       "      <th>min</th>\n",
       "      <th>25%</th>\n",
       "      <th>50%</th>\n",
       "      <th>75%</th>\n",
       "      <th>max</th>\n",
       "    </tr>\n",
       "    <tr>\n",
       "      <th>DEATH_EVENT</th>\n",
       "      <th></th>\n",
       "      <th></th>\n",
       "      <th></th>\n",
       "      <th></th>\n",
       "      <th></th>\n",
       "      <th></th>\n",
       "      <th></th>\n",
       "      <th></th>\n",
       "    </tr>\n",
       "  </thead>\n",
       "  <tbody>\n",
       "    <tr>\n",
       "      <th>0</th>\n",
       "      <td>195.0</td>\n",
       "      <td>58.864959</td>\n",
       "      <td>10.555504</td>\n",
       "      <td>40.0</td>\n",
       "      <td>50.0</td>\n",
       "      <td>60.0</td>\n",
       "      <td>65.0</td>\n",
       "      <td>90.0</td>\n",
       "    </tr>\n",
       "    <tr>\n",
       "      <th>1</th>\n",
       "      <td>87.0</td>\n",
       "      <td>65.363989</td>\n",
       "      <td>13.300310</td>\n",
       "      <td>42.0</td>\n",
       "      <td>56.0</td>\n",
       "      <td>65.0</td>\n",
       "      <td>75.0</td>\n",
       "      <td>95.0</td>\n",
       "    </tr>\n",
       "  </tbody>\n",
       "</table>\n",
       "</div>"
      ],
      "text/plain": [
       "               age                                                    \n",
       "             count       mean        std   min   25%   50%   75%   max\n",
       "DEATH_EVENT                                                           \n",
       "0            195.0  58.864959  10.555504  40.0  50.0  60.0  65.0  90.0\n",
       "1             87.0  65.363989  13.300310  42.0  56.0  65.0  75.0  95.0"
      ]
     },
     "execution_count": 14,
     "metadata": {},
     "output_type": "execute_result"
    }
   ],
   "source": [
    "heartFailure.groupby('DEATH_EVENT')[['age']].describe()"
   ]
  },
  {
   "cell_type": "code",
   "execution_count": 15,
   "metadata": {},
   "outputs": [],
   "source": [
    "age_group_alive = pd.cut(patientAlive['age'], bins=[0, 40, 50, 60, 70, 80, 90,100])\n",
    "age_group_dead = pd.cut(patientDead['age'], bins=[0, 40, 50, 60, 70, 80, 90,100])"
   ]
  },
  {
   "cell_type": "code",
   "execution_count": 16,
   "metadata": {},
   "outputs": [],
   "source": [
    "counts_alive= age_group_alive.value_counts()\n",
    "counts_dead = age_group_dead.value_counts()\n",
    "counts_total = counts_alive+counts_dead\n",
    "percent = counts_dead / counts_total\n",
    "fmt = '{:.1%}'.format\n",
    "age_patient = pd.DataFrame({'Patient died': counts_dead, 'Patient alive': counts_alive,\n",
    "              'Total patient':counts_total, 'Death Percent in Same Age Group': percent.map(fmt)})"
   ]
  },
  {
   "cell_type": "code",
   "execution_count": 17,
   "metadata": {},
   "outputs": [
    {
     "data": {
      "text/plain": [
       "Text(0, 0.5, 'Numbers')"
      ]
     },
     "execution_count": 17,
     "metadata": {},
     "output_type": "execute_result"
    },
    {
     "data": {
      "image/png": "[encoded data removed]",
      "text/plain": [
       "<Figure size 432x288 with 1 Axes>"
      ]
     },
     "metadata": {
      "needs_background": "light"
     },
     "output_type": "display_data"
    }
   ],
   "source": [
    "age_patient.plot(kind=\"bar\")\n",
    "plt.title(\"Comparison of Dead and Alive Patient by Ages\")\n",
    "plt.xlabel(\"Age Group\")\n",
    "plt.ylabel(\"Numbers\")"
   ]
  },
  {
   "cell_type": "markdown",
   "metadata": {},
   "source": [
    "#### 2.1.2  Exploration of 'anemia' feature"
   ]
  },
  {
   "cell_type": "code",
   "execution_count": 18,
   "metadata": {},
   "outputs": [
    {
     "data": {
      "text/plain": [
       "0    159\n",
       "1    123\n",
       "Name: anaemia, dtype: int64"
      ]
     },
     "execution_count": 18,
     "metadata": {},
     "output_type": "execute_result"
    }
   ],
   "source": [
    "heartFailure['anaemia'].value_counts()"
   ]
  },
  {
   "cell_type": "code",
   "execution_count": 19,
   "metadata": {},
   "outputs": [
    {
     "data": {
      "text/plain": [
       "<AxesSubplot:title={'center':'Death Percentages of Anaemia Positive Patients'}, ylabel='anaemia'>"
      ]
     },
     "execution_count": 19,
     "metadata": {},
     "output_type": "execute_result"
    },
    {
     "data": {
      "image/png": "[encoded data removed]",
      "text/plain": [
       "<Figure size 432x288 with 1 Axes>"
      ]
     },
     "metadata": {},
     "output_type": "display_data"
    }
   ],
   "source": [
    "anaemia=heartFailure['anaemia'].groupby(heartFailure['DEATH_EVENT']).sum()\n",
    "anaemia.plot(kind='pie',autopct='%1.1f%%', fontsize=11, title=\"Death Percentages of Anaemia Positive Patients\" )"
   ]
  },
  {
   "cell_type": "markdown",
   "metadata": {},
   "source": [
    "#### 2.1.3 Exploration on 'time' feature"
   ]
  },
  {
   "cell_type": "code",
   "execution_count": 20,
   "metadata": {},
   "outputs": [],
   "source": [
    "time_span_alive = pd.cut(patientAlive['time'], bins=[0, 50, 100, 150, 200, 250, 300])\n",
    "time_span_dead = pd.cut(patientDead['time'], bins=[0, 50, 100, 150, 200, 250, 300])"
   ]
  },
  {
   "cell_type": "code",
   "execution_count": 21,
   "metadata": {},
   "outputs": [
    {
     "data": {
      "text/html": [
       "<div>\n",
       "<style scoped>\n",
       "    .dataframe tbody tr th:only-of-type {\n",
       "        vertical-align: middle;\n",
       "    }\n",
       "\n",
       "    .dataframe tbody tr th {\n",
       "        vertical-align: top;\n",
       "    }\n",
       "\n",
       "    .dataframe thead th {\n",
       "        text-align: right;\n",
       "    }\n",
       "</style>\n",
       "<table border=\"1\" class=\"dataframe\">\n",
       "  <thead>\n",
       "    <tr style=\"text-align: right;\">\n",
       "      <th></th>\n",
       "      <th>Patient died</th>\n",
       "      <th>Patient alive</th>\n",
       "      <th>Total patient</th>\n",
       "      <th>Death % in Same follow-up Time Group</th>\n",
       "    </tr>\n",
       "  </thead>\n",
       "  <tbody>\n",
       "    <tr>\n",
       "      <th>(0, 50]</th>\n",
       "      <td>45</td>\n",
       "      <td>6</td>\n",
       "      <td>51</td>\n",
       "      <td>88.2%</td>\n",
       "    </tr>\n",
       "    <tr>\n",
       "      <th>(50, 100]</th>\n",
       "      <td>19</td>\n",
       "      <td>47</td>\n",
       "      <td>66</td>\n",
       "      <td>28.8%</td>\n",
       "    </tr>\n",
       "    <tr>\n",
       "      <th>(100, 150]</th>\n",
       "      <td>9</td>\n",
       "      <td>43</td>\n",
       "      <td>52</td>\n",
       "      <td>17.3%</td>\n",
       "    </tr>\n",
       "    <tr>\n",
       "      <th>(150, 200]</th>\n",
       "      <td>10</td>\n",
       "      <td>28</td>\n",
       "      <td>38</td>\n",
       "      <td>26.3%</td>\n",
       "    </tr>\n",
       "    <tr>\n",
       "      <th>(200, 250]</th>\n",
       "      <td>4</td>\n",
       "      <td>61</td>\n",
       "      <td>65</td>\n",
       "      <td>6.2%</td>\n",
       "    </tr>\n",
       "    <tr>\n",
       "      <th>(250, 300]</th>\n",
       "      <td>0</td>\n",
       "      <td>10</td>\n",
       "      <td>10</td>\n",
       "      <td>0.0%</td>\n",
       "    </tr>\n",
       "  </tbody>\n",
       "</table>\n",
       "</div>"
      ],
      "text/plain": [
       "            Patient died  Patient alive  Total patient  \\\n",
       "(0, 50]               45              6             51   \n",
       "(50, 100]             19             47             66   \n",
       "(100, 150]             9             43             52   \n",
       "(150, 200]            10             28             38   \n",
       "(200, 250]             4             61             65   \n",
       "(250, 300]             0             10             10   \n",
       "\n",
       "           Death % in Same follow-up Time Group  \n",
       "(0, 50]                                   88.2%  \n",
       "(50, 100]                                 28.8%  \n",
       "(100, 150]                                17.3%  \n",
       "(150, 200]                                26.3%  \n",
       "(200, 250]                                 6.2%  \n",
       "(250, 300]                                 0.0%  "
      ]
     },
     "execution_count": 21,
     "metadata": {},
     "output_type": "execute_result"
    }
   ],
   "source": [
    "counts_alive= time_span_alive.value_counts()\n",
    "counts_dead = time_span_dead.value_counts()\n",
    "counts_total = counts_alive+counts_dead\n",
    "percent = counts_dead / counts_total\n",
    "fmt = '{:.1%}'.format\n",
    "time_patient = pd.DataFrame({'Patient died': counts_dead, 'Patient alive': counts_alive,\n",
    "              'Total patient':counts_total, 'Death % in Same follow-up Time Group': percent.map(fmt)})\n",
    "time_patient"
   ]
  },
  {
   "cell_type": "markdown",
   "metadata": {},
   "source": [
    "#### 2.1.4 Exploration on 'serum_creatinine' feature"
   ]
  },
  {
   "cell_type": "code",
   "execution_count": 22,
   "metadata": {},
   "outputs": [
    {
     "data": {
      "text/plain": [
       "Text(0, 0.5, 'Level of Serium Creatinine')"
      ]
     },
     "execution_count": 22,
     "metadata": {},
     "output_type": "execute_result"
    },
    {
     "data": {
      "image/png": "[encoded data removed]",
      "text/plain": [
       "<Figure size 432x288 with 1 Axes>"
      ]
     },
     "metadata": {
      "needs_background": "light"
     },
     "output_type": "display_data"
    }
   ],
   "source": [
    "serum_alive = pd.cut(patientAlive['serum_creatinine'], bins=[0.4, 1, 2, 4, 10])\n",
    "serum_dead = pd.cut(patientDead['serum_creatinine'], bins=[0.4, 1, 2, 4, 10])\n",
    "counts_alive= serum_alive.value_counts()\n",
    "counts_dead = serum_dead.value_counts()\n",
    "counts_total = counts_alive+counts_dead\n",
    "percent = counts_dead / counts_total\n",
    "fmt = '{:.1%}'.format\n",
    "serium_patient = pd.DataFrame({'Patient died': counts_dead, 'Patient alive': counts_alive})\n",
    "serium_patient.plot(kind=\"barh\",stacked=True)\n",
    "plt.title(\"Death Percentages Increase with the Increase of Serium Creatinine\", fontsize=16)\n",
    "plt.xlabel(\"Number of Patient\")\n",
    "plt.ylabel(\"Level of Serium Creatinine\")"
   ]
  },
  {
   "cell_type": "markdown",
   "metadata": {},
   "source": [
    "#### 2.1.5 Exploration on 'sex' feature"
   ]
  },
  {
   "cell_type": "code",
   "execution_count": 23,
   "metadata": {},
   "outputs": [
    {
     "data": {
      "text/plain": [
       "1    183\n",
       "0     99\n",
       "Name: sex, dtype: int64"
      ]
     },
     "execution_count": 23,
     "metadata": {},
     "output_type": "execute_result"
    }
   ],
   "source": [
    "heartFailure.sex.value_counts()"
   ]
  },
  {
   "cell_type": "code",
   "execution_count": 24,
   "metadata": {},
   "outputs": [
    {
     "data": {
      "text/plain": [
       "<AxesSubplot:title={'center':'Are the Maximum Heart Patient Male?'}, ylabel='sex'>"
      ]
     },
     "execution_count": 24,
     "metadata": {},
     "output_type": "execute_result"
    },
    {
     "data": {
      "image/png": "[encoded data removed]",
      "text/plain": [
       "<Figure size 432x288 with 1 Axes>"
      ]
     },
     "metadata": {},
     "output_type": "display_data"
    }
   ],
   "source": [
    "heartFailure.sex.value_counts().plot(kind='pie',autopct='%1.1f%%', fontsize=11, title=\"Are the Maximum Heart Patient Male?\" )"
   ]
  },
  {
   "cell_type": "markdown",
   "metadata": {},
   "source": [
    "#### 2.1.6 Exploration on 'smoking' feature"
   ]
  },
  {
   "cell_type": "code",
   "execution_count": 25,
   "metadata": {},
   "outputs": [
    {
     "data": {
      "text/plain": [
       "0    194\n",
       "1     88\n",
       "Name: smoking, dtype: int64"
      ]
     },
     "execution_count": 25,
     "metadata": {},
     "output_type": "execute_result"
    }
   ],
   "source": [
    "heartFailure['smoking'].value_counts()"
   ]
  },
  {
   "cell_type": "code",
   "execution_count": 26,
   "metadata": {},
   "outputs": [
    {
     "data": {
      "text/plain": [
       "<AxesSubplot:title={'center':'Are the Maximum Smokers Among Heart Patient Male?'}, ylabel='smoking'>"
      ]
     },
     "execution_count": 26,
     "metadata": {},
     "output_type": "execute_result"
    },
    {
     "data": {
      "image/png": "[encoded data removed]",
      "text/plain": [
       "<Figure size 432x288 with 1 Axes>"
      ]
     },
     "metadata": {},
     "output_type": "display_data"
    }
   ],
   "source": [
    "patient_smoking=heartFailure['smoking'].groupby(heartFailure['sex']==1).sum()\n",
    "patient_smoking.plot(kind='pie',autopct='%1.1f%%', fontsize=11, title=\"Are the Maximum Smokers Among Heart Patient Male?\" )"
   ]
  },
  {
   "cell_type": "markdown",
   "metadata": {},
   "source": [
    "#### 2.1.7 Exploration on 'serum_sodium' feature"
   ]
  },
  {
   "cell_type": "code",
   "execution_count": 27,
   "metadata": {},
   "outputs": [
    {
     "data": {
      "text/plain": [
       "Text(0, 0.5, 'Numbers')"
      ]
     },
     "execution_count": 27,
     "metadata": {},
     "output_type": "execute_result"
    },
    {
     "data": {
      "image/png": "[encoded data removed]",
      "text/plain": [
       "<Figure size 432x288 with 1 Axes>"
      ]
     },
     "metadata": {
      "needs_background": "light"
     },
     "output_type": "display_data"
    }
   ],
   "source": [
    "heartFailure['serum_sodium'].plot(kind=\"hist\", grid =\"True\")\n",
    "plt.title(\"Histogram of Serum Sodium Level Among Heart-Patients\", fontsize=16)\n",
    "plt.xlabel(\"Serum Sodium Content\")\n",
    "plt.ylabel(\"Numbers\")"
   ]
  },
  {
   "cell_type": "markdown",
   "metadata": {},
   "source": [
    "#### 2.1.8 Exploration on 'diabetes' feature"
   ]
  },
  {
   "cell_type": "code",
   "execution_count": 28,
   "metadata": {},
   "outputs": [
    {
     "data": {
      "text/plain": [
       "0    164\n",
       "1    118\n",
       "Name: diabetes, dtype: int64"
      ]
     },
     "execution_count": 28,
     "metadata": {},
     "output_type": "execute_result"
    }
   ],
   "source": [
    "heartFailure['diabetes'].value_counts()"
   ]
  },
  {
   "cell_type": "code",
   "execution_count": 29,
   "metadata": {
    "scrolled": true
   },
   "outputs": [
    {
     "data": {
      "text/plain": [
       "<AxesSubplot:title={'center':'Do Maximum Diabetes Patient Die in case of Heart Failure?'}, ylabel='diabetes'>"
      ]
     },
     "execution_count": 29,
     "metadata": {},
     "output_type": "execute_result"
    },
    {
     "data": {
      "image/png": "[encoded data removed]",
      "text/plain": [
       "<Figure size 432x288 with 1 Axes>"
      ]
     },
     "metadata": {},
     "output_type": "display_data"
    }
   ],
   "source": [
    "patient_dbts=heartFailure['diabetes'].groupby(heartFailure['DEATH_EVENT']==1).sum()\n",
    "patient_dbts.plot(kind='pie',autopct='%1.1f%%', fontsize=11,title=\"Do Maximum Diabetes Patient Die in case of Heart Failure?\" )"
   ]
  },
  {
   "cell_type": "markdown",
   "metadata": {},
   "source": [
    "#### 2.1.9 Exploration on 'ejection_fraction' feature"
   ]
  },
  {
   "cell_type": "code",
   "execution_count": 30,
   "metadata": {},
   "outputs": [
    {
     "data": {
      "text/plain": [
       "Text(0, 0.5, 'Number of Patient')"
      ]
     },
     "execution_count": 30,
     "metadata": {},
     "output_type": "execute_result"
    },
    {
     "data": {
      "image/png": "[encoded data removed]",
      "text/plain": [
       "<Figure size 432x288 with 1 Axes>"
      ]
     },
     "metadata": {
      "needs_background": "light"
     },
     "output_type": "display_data"
    }
   ],
   "source": [
    "ejection_alive = pd.cut(patientAlive['ejection_fraction'], bins=[10, 20, 30, 40,50,80])\n",
    "ejection_dead = pd.cut(patientDead['ejection_fraction'], bins=[10, 20, 30, 40,50,80])\n",
    "counts_alive= ejection_alive.value_counts()\n",
    "counts_dead = ejection_dead.value_counts()\n",
    "counts_total = counts_alive+counts_dead\n",
    "percent = counts_dead / counts_total\n",
    "fmt = '{:.1%}'.format\n",
    "serium_patient = pd.DataFrame({'Patient died': counts_dead, 'Patient alive': counts_alive})\n",
    "serium_patient.plot(kind=\"bar\",stacked=True)\n",
    "plt.title(\"Death Percentages Increase with the Decrease of Ejection Fraction\", fontsize=16)\n",
    "plt.xlabel(\"Level of Ejection Fraction\")\n",
    "plt.ylabel(\"Number of Patient\")"
   ]
  },
  {
   "cell_type": "markdown",
   "metadata": {},
   "source": [
    "#### 2.1.10 Exploration on 'platelets' feature"
   ]
  },
  {
   "cell_type": "code",
   "execution_count": 31,
   "metadata": {},
   "outputs": [
    {
     "data": {
      "text/plain": [
       "Text(0, 0.5, 'Numbers')"
      ]
     },
     "execution_count": 31,
     "metadata": {},
     "output_type": "execute_result"
    },
    {
     "data": {
      "image/png": "[encoded data removed]",
      "text/plain": [
       "<Figure size 432x288 with 1 Axes>"
      ]
     },
     "metadata": {
      "needs_background": "light"
     },
     "output_type": "display_data"
    }
   ],
   "source": [
    "heartFailure['platelets'].plot(kind=\"hist\", grid =\"True\")\n",
    "plt.title(\"Histogram of Platelets Counts among Heart-Patients\", fontsize=16)\n",
    "plt.xlabel(\"Platelets Count\")\n",
    "plt.ylabel(\"Numbers\")"
   ]
  },
  {
   "cell_type": "markdown",
   "metadata": {},
   "source": [
    "### 2.1 Relationships Between All Pair of Attributes"
   ]
  },
  {
   "cell_type": "code",
   "execution_count": 32,
   "metadata": {},
   "outputs": [
    {
     "data": {
      "text/plain": [
       "'\\nsns.set_style(\"whitegrid\")\\nsns.pairplot(heartFailure[[\\'age\\', \\'anaemia\\', \\'diabetes\\',\\n                           \\'ejection_fraction\\', \\'high_blood_pressure\\',\\'platelets\\',\\n                           \\'serum_creatinine\\',\\'DEATH_EVENT\\',\\'serum_sodium\\', \\'time\\',]],\\n             hue = \\'DEATH_EVENT\\', plot_kws={\\'alpha\\':.8,\\'s\\':50,\\'edgecolor\\':\\'r\\'}, height=2.5)\\n'"
      ]
     },
     "execution_count": 32,
     "metadata": {},
     "output_type": "execute_result"
    }
   ],
   "source": [
    "'''\n",
    "sns.set_style(\"whitegrid\")\n",
    "sns.pairplot(heartFailure[['age', 'anaemia', 'diabetes',\n",
    "                           'ejection_fraction', 'high_blood_pressure','platelets',\n",
    "                           'serum_creatinine','DEATH_EVENT','serum_sodium', 'time',]],\n",
    "             hue = 'DEATH_EVENT', plot_kws={'alpha':.8,'s':50,'edgecolor':'r'}, height=2.5)\n",
    "'''"
   ]
  },
  {
   "cell_type": "markdown",
   "metadata": {},
   "source": [
    "### Co-relation among features"
   ]
  },
  {
   "cell_type": "code",
   "execution_count": 33,
   "metadata": {
    "scrolled": true
   },
   "outputs": [],
   "source": [
    "cor = heartFailure.corr()"
   ]
  },
  {
   "cell_type": "code",
   "execution_count": 34,
   "metadata": {},
   "outputs": [],
   "source": [
    "# sns.heatmap(cor, annot=True)"
   ]
  },
  {
   "cell_type": "markdown",
   "metadata": {},
   "source": [
    "## Feature Selection"
   ]
  },
  {
   "cell_type": "code",
   "execution_count": 35,
   "metadata": {},
   "outputs": [
    {
     "data": {
      "text/plain": [
       "age                  0.254051\n",
       "ejection_fraction    0.294667\n",
       "serum_creatinine     0.333042\n",
       "serum_sodium         0.217888\n",
       "time                 0.516224\n",
       "DEATH_EVENT          1.000000\n",
       "Name: DEATH_EVENT, dtype: float64"
      ]
     },
     "execution_count": 35,
     "metadata": {},
     "output_type": "execute_result"
    }
   ],
   "source": [
    "cor_target = abs(cor['DEATH_EVENT'])\n",
    "relevant_features = cor_target[cor_target>0.1]\n",
    "relevant_features"
   ]
  },
  {
   "cell_type": "code",
   "execution_count": 36,
   "metadata": {},
   "outputs": [],
   "source": [
    "# So Selecting only highly related features with Death_event vaiable.\n",
    "heartFailure1 =heartFailure[['age','serum_creatinine','serum_sodium','ejection_fraction','time','DEATH_EVENT']]"
   ]
  },
  {
   "cell_type": "markdown",
   "metadata": {},
   "source": [
    "## Decision Tree Implementation"
   ]
  },
  {
   "cell_type": "code",
   "execution_count": 37,
   "metadata": {},
   "outputs": [],
   "source": [
    "from sklearn.tree import DecisionTreeClassifier\n",
    "from sklearn.model_selection import train_test_split\n",
    "X=heartFailure1.iloc[:,:-1].values\n",
    "y=heartFailure1.iloc[:,-1].values\n",
    "X_train, X_test, y_train, y_test=train_test_split(X,y, test_size=.2,random_state=2)"
   ]
  },
  {
   "cell_type": "code",
   "execution_count": 38,
   "metadata": {},
   "outputs": [
    {
     "name": "stdout",
     "output_type": "stream",
     "text": [
      "Counter({0: 155, 1: 70})\n",
      "Counter({0: 40, 1: 17})\n"
     ]
    }
   ],
   "source": [
    "from collections import Counter\n",
    "print(Counter(y_train))\n",
    "print(Counter(y_test))"
   ]
  },
  {
   "cell_type": "code",
   "execution_count": 39,
   "metadata": {},
   "outputs": [],
   "source": [
    "clf_gini=DecisionTreeClassifier(criterion= 'gini', max_depth = None,min_samples_split =2,\n",
    "                           min_samples_leaf =1, max_features = None,max_leaf_nodes =None)\n",
    "fit = clf_gini.fit(X_train, y_train)\n",
    "y_pre = fit.predict(X_test)"
   ]
  },
  {
   "cell_type": "code",
   "execution_count": 40,
   "metadata": {},
   "outputs": [],
   "source": [
    "clf_entropy=DecisionTreeClassifier(criterion= 'entropy', max_depth = None,min_samples_split =2,\n",
    "                           min_samples_leaf =1, max_features = None,max_leaf_nodes =None)\n",
    "fit2 = clf_entropy.fit(X_train, y_train)\n",
    "y_pre2 = fit2.predict(X_test)"
   ]
  },
  {
   "cell_type": "code",
   "execution_count": 41,
   "metadata": {},
   "outputs": [
    {
     "name": "stdout",
     "output_type": "stream",
     "text": [
      "[[36  4]\n",
      " [ 6 11]]\n"
     ]
    }
   ],
   "source": [
    "from sklearn.metrics import confusion_matrix\n",
    "cm= confusion_matrix(y_test, y_pre)\n",
    "print(cm)"
   ]
  },
  {
   "cell_type": "code",
   "execution_count": 42,
   "metadata": {},
   "outputs": [
    {
     "name": "stdout",
     "output_type": "stream",
     "text": [
      "[[37  3]\n",
      " [ 5 12]]\n"
     ]
    }
   ],
   "source": [
    "cm2= confusion_matrix(y_test, y_pre2)\n",
    "print(cm2)"
   ]
  },
  {
   "cell_type": "code",
   "execution_count": 43,
   "metadata": {},
   "outputs": [
    {
     "name": "stdout",
     "output_type": "stream",
     "text": [
      "              precision    recall  f1-score   support\n",
      "\n",
      "           0       0.86      0.90      0.88        40\n",
      "           1       0.73      0.65      0.69        17\n",
      "\n",
      "    accuracy                           0.82        57\n",
      "   macro avg       0.80      0.77      0.78        57\n",
      "weighted avg       0.82      0.82      0.82        57\n",
      "\n"
     ]
    }
   ],
   "source": [
    "from sklearn.metrics import classification_report\n",
    "print(classification_report(y_test,y_pre))"
   ]
  },
  {
   "cell_type": "code",
   "execution_count": 44,
   "metadata": {},
   "outputs": [
    {
     "name": "stdout",
     "output_type": "stream",
     "text": [
      "              precision    recall  f1-score   support\n",
      "\n",
      "           0       0.88      0.93      0.90        40\n",
      "           1       0.80      0.71      0.75        17\n",
      "\n",
      "    accuracy                           0.86        57\n",
      "   macro avg       0.84      0.82      0.83        57\n",
      "weighted avg       0.86      0.86      0.86        57\n",
      "\n"
     ]
    }
   ],
   "source": [
    "print(classification_report(y_test,y_pre2))"
   ]
  },
  {
   "cell_type": "markdown",
   "metadata": {},
   "source": [
    "## Hyperparameter Tuning"
   ]
  },
  {
   "cell_type": "code",
   "execution_count": 45,
   "metadata": {},
   "outputs": [
    {
     "name": "stdout",
     "output_type": "stream",
     "text": [
      "Fitting 10 folds for each of 1440 candidates, totalling 14400 fits\n"
     ]
    },
    {
     "name": "stderr",
     "output_type": "stream",
     "text": [
      "[Parallel(n_jobs=-1)]: Using backend LokyBackend with 8 concurrent workers.\n",
      "[Parallel(n_jobs=-1)]: Done  34 tasks      | elapsed:    1.8s\n",
      "[Parallel(n_jobs=-1)]: Done 7184 tasks      | elapsed:    4.5s\n",
      "[Parallel(n_jobs=-1)]: Done 14400 out of 14400 | elapsed:    6.3s finished\n"
     ]
    },
    {
     "data": {
      "text/plain": [
       "GridSearchCV(cv=10, estimator=DecisionTreeClassifier(), n_jobs=-1,\n",
       "             param_grid={'class_weight': ['balanced', 'None'],\n",
       "                         'criterion': ['gini', 'entropy'],\n",
       "                         'max_depth': range(5, 15),\n",
       "                         'min_samples_leaf': range(1, 5),\n",
       "                         'min_samples_split': range(1, 10)},\n",
       "             verbose=1)"
      ]
     },
     "execution_count": 45,
     "metadata": {},
     "output_type": "execute_result"
    }
   ],
   "source": [
    "from sklearn.model_selection import GridSearchCV\n",
    "param_dict ={\n",
    "    \"criterion\" :['gini', 'entropy'],\n",
    "    \"max_depth\":range(5,15),\n",
    "    \"min_samples_split\":range(1,10),\n",
    "    \"min_samples_leaf\":range(1,5),\n",
    "    \"class_weight\": ['balanced', 'None']\n",
    "}\n",
    "decision_tree = DecisionTreeClassifier()\n",
    "grid = GridSearchCV(decision_tree, param_grid = param_dict, cv=10, verbose=1, n_jobs=-1)\n",
    "grid.fit(X_train, y_train)"
   ]
  },
  {
   "cell_type": "code",
   "execution_count": 46,
   "metadata": {},
   "outputs": [
    {
     "data": {
      "text/plain": [
       "{'class_weight': 'balanced',\n",
       " 'criterion': 'entropy',\n",
       " 'max_depth': 7,\n",
       " 'min_samples_leaf': 3,\n",
       " 'min_samples_split': 2}"
      ]
     },
     "execution_count": 46,
     "metadata": {},
     "output_type": "execute_result"
    }
   ],
   "source": [
    "grid.best_params_"
   ]
  },
  {
   "cell_type": "code",
   "execution_count": 47,
   "metadata": {},
   "outputs": [
    {
     "data": {
      "text/plain": [
       "DecisionTreeClassifier(class_weight='balanced', criterion='entropy',\n",
       "                       max_depth=7, min_samples_leaf=3)"
      ]
     },
     "execution_count": 47,
     "metadata": {},
     "output_type": "execute_result"
    }
   ],
   "source": [
    "grid.best_estimator_"
   ]
  },
  {
   "cell_type": "code",
   "execution_count": 48,
   "metadata": {},
   "outputs": [
    {
     "data": {
      "text/plain": [
       "0.8169960474308301"
      ]
     },
     "execution_count": 48,
     "metadata": {},
     "output_type": "execute_result"
    }
   ],
   "source": [
    "grid.best_score_"
   ]
  },
  {
   "cell_type": "code",
   "execution_count": 49,
   "metadata": {},
   "outputs": [
    {
     "name": "stdout",
     "output_type": "stream",
     "text": [
      "[[32  8]\n",
      " [ 3 14]]\n",
      "              precision    recall  f1-score   support\n",
      "\n",
      "           0       0.91      0.80      0.85        40\n",
      "           1       0.64      0.82      0.72        17\n",
      "\n",
      "    accuracy                           0.81        57\n",
      "   macro avg       0.78      0.81      0.79        57\n",
      "weighted avg       0.83      0.81      0.81        57\n",
      "\n"
     ]
    }
   ],
   "source": [
    "clf_test=DecisionTreeClassifier(criterion= 'gini',max_depth=8,  min_samples_split =2,class_weight='balanced',\n",
    "                           min_samples_leaf =4, max_features = None,max_leaf_nodes =None )\n",
    "fit_test = clf_test.fit(X_train, y_train)\n",
    "y_pre_test = fit_test.predict(X_test)\n",
    "cm= confusion_matrix(y_test, y_pre_test)\n",
    "print(cm)\n",
    "print(classification_report(y_test,y_pre_test))"
   ]
  },
  {
   "cell_type": "markdown",
   "metadata": {},
   "source": [
    "## Decision Tree Visualisation"
   ]
  },
  {
   "cell_type": "code",
   "execution_count": 50,
   "metadata": {},
   "outputs": [],
   "source": [
    "from sklearn import tree\n",
    "with open (\"heart_failure_clinical_records_dataset1.csv\",\"w\") as z:\n",
    "    z=tree.export_graphviz(clf_gini, out_file=\"tree1.dot\",feature_names = ['age','serum_creatinine',\n",
    "                                                            'serum_sodium','ejection_fraction','time'],\n",
    "        class_names = 'DEATH_EVENT', filled =True, rounded =True,special_characters =True)"
   ]
  },
  {
   "cell_type": "code",
   "execution_count": 51,
   "metadata": {},
   "outputs": [],
   "source": [
    "with open (\"heart_failure_clinical_records_dataset2.csv\",\"w\") as z:\n",
    "    z=tree.export_graphviz(clf_entropy, out_file=\"tree2.dot\",feature_names = ['age','serum_creatinine',\n",
    "                                                            'serum_sodium','ejection_fraction','time'],\n",
    "        class_names = 'DEATH_EVENT', filled =True, rounded =True,special_characters =True)"
   ]
  },
  {
   "cell_type": "code",
   "execution_count": 52,
   "metadata": {},
   "outputs": [],
   "source": [
    "with open (\"heart_failure_clinical_records_dataset3.csv\",\"w\") as z:\n",
    "    z=tree.export_graphviz(clf_test, out_file=\"tree3.dot\",feature_names = ['age','serum_creatinine',\n",
    "                                                            'serum_sodium','ejection_fraction','time'],\n",
    "        class_names = 'DEATH_EVENT', filled =True, rounded =True,special_characters =True)"
   ]
  },
  {
   "cell_type": "code",
   "execution_count": 53,
   "metadata": {},
   "outputs": [
    {
     "data": {
      "text/plain": [
       "'\\nwith open(\"tree1.dot\") as f:\\n    dot_graph = f.read()\\n\\ngraph = graphviz.Source(dot_graph)\\ngraph.format=\\'png\\'\\ngraph.render(\\'tree1\\',view=True)\\n'"
      ]
     },
     "execution_count": 53,
     "metadata": {},
     "output_type": "execute_result"
    }
   ],
   "source": [
    "'''\n",
    "with open(\"tree1.dot\") as f:\n",
    "    dot_graph = f.read()\n",
    "\n",
    "graph = graphviz.Source(dot_graph)\n",
    "graph.format='png'\n",
    "graph.render('tree1',view=True)\n",
    "'''"
   ]
  },
  {
   "cell_type": "code",
   "execution_count": 54,
   "metadata": {},
   "outputs": [
    {
     "data": {
      "text/plain": [
       "'\\nwith open(\"tree2.dot\") as f:\\n    dot_graph = f.read()\\n\\ngraph = graphviz.Source(dot_graph)\\ngraph.format=\\'png\\'\\ngraph.render(\\'tree2\\',view=True)\\n'"
      ]
     },
     "execution_count": 54,
     "metadata": {},
     "output_type": "execute_result"
    }
   ],
   "source": [
    "'''\n",
    "with open(\"tree2.dot\") as f:\n",
    "    dot_graph = f.read()\n",
    "\n",
    "graph = graphviz.Source(dot_graph)\n",
    "graph.format='png'\n",
    "graph.render('tree2',view=True)\n",
    "'''"
   ]
  },
  {
   "cell_type": "code",
   "execution_count": 55,
   "metadata": {},
   "outputs": [
    {
     "data": {
      "text/plain": [
       "'\\nwith open(\"tree3.dot\") as f:\\n    dot_graph = f.read()\\n\\ngraph = graphviz.Source(dot_graph)\\ngraph.format=\\'png\\'\\ngraph.render(\\'tree3\\',view=True)\\n'"
      ]
     },
     "execution_count": 55,
     "metadata": {},
     "output_type": "execute_result"
    }
   ],
   "source": [
    "'''\n",
    "with open(\"tree3.dot\") as f:\n",
    "    dot_graph = f.read()\n",
    "\n",
    "graph = graphviz.Source(dot_graph)\n",
    "graph.format='png'\n",
    "graph.render('tree3',view=True)\n",
    "'''"
   ]
  },
  {
   "cell_type": "markdown",
   "metadata": {},
   "source": [
    "## Cross-checking Feature Selection with Hill-Climbing Technique"
   ]
  },
  {
   "cell_type": "code",
   "execution_count": 56,
   "metadata": {},
   "outputs": [
    {
     "name": "stdout",
     "output_type": "stream",
     "text": [
      "[6, 11, 4, 10, 2, 8, 1, 7, 9, 3, 0, 5, 12]\n",
      "Index(['age', 'anaemia', 'creatinine_phosphokinase', 'diabetes',\n",
      "       'ejection_fraction', 'high_blood_pressure', 'platelets',\n",
      "       'serum_creatinine', 'serum_sodium', 'sex', 'smoking', 'time',\n",
      "       'DEATH_EVENT'],\n",
      "      dtype='object')\n"
     ]
    }
   ],
   "source": [
    "from sklearn.utils import shuffle\n",
    "new_Ind = []\n",
    "cur_MaxScore = 0.0\n",
    "col_num = 13\n",
    "col_Ind_Random = shuffle(range(0,col_num), random_state=0)\n",
    "print(col_Ind_Random)\n",
    "print(heartFailure.columns)"
   ]
  },
  {
   "cell_type": "code",
   "execution_count": 57,
   "metadata": {},
   "outputs": [],
   "source": [
    "## double check code below"
   ]
  },
  {
   "cell_type": "code",
   "execution_count": 58,
   "metadata": {},
   "outputs": [
    {
     "name": "stdout",
     "output_type": "stream",
     "text": [
      "Score with 1(feature: 6) selected features: 0.7\n",
      "Score with 2(feature: 11) selected features: 0.72\n",
      "Score with 3(feature: 4) selected features: 0.82\n",
      "Score with 4(feature: 10) selected features: 0.86\n",
      "Score with 5(feature: 2) selected features: 0.86\n",
      "Score with 6(feature: 9) selected features: 0.86\n",
      "Score with 7(feature: 3) selected features: 0.86\n",
      "Score with 8(feature: 5) selected features: 0.86\n",
      "Score with 9(feature: 12) selected features: 1.0\n"
     ]
    }
   ],
   "source": [
    "for cur_f in range(0, col_num):\n",
    "    new_Ind.append(col_Ind_Random[cur_f])\n",
    "    newData = heartFailure.iloc[:,new_Ind]\n",
    "    #print(newData)\n",
    "    X_train, X_test, y_train, y_test=train_test_split(newData,y, test_size=.2,random_state=0)\n",
    "    #clf=DecisionTreeClassifier(criterion= 'gini', max_depth = None,min_samples_split =2,\n",
    "                               #min_samples_leaf =1, max_features = None,max_leaf_nodes =None)\n",
    "    fit = clf_gini.fit(X_train, y_train)\n",
    "    cur_Score = clf_gini.score(X_test, y_test)\n",
    "    if cur_Score < cur_MaxScore:\n",
    "        new_Ind.remove(col_Ind_Random[cur_f])\n",
    "    else:\n",
    "        cur_MaxScore = cur_Score\n",
    "        print(\"Score with \" + str(len(new_Ind)) + \"(feature: \" + \n",
    "              str(col_Ind_Random[cur_f])+ \") selected features: \" + str(round(cur_Score,2)))\n",
    "    "
   ]
  },
  {
   "cell_type": "markdown",
   "metadata": {},
   "source": [
    "\n",
    "## KN neighbourhood Classification\n"
   ]
  },
  {
   "cell_type": "code",
   "execution_count": 59,
   "metadata": {},
   "outputs": [],
   "source": [
    "from sklearn.model_selection import train_test_split\n",
    "X=heartFailure1.iloc[:,:-1].values\n",
    "y=heartFailure1.iloc[:,-1].values\n",
    "X_train, X_test, y_train, y_test=train_test_split(X,y, test_size=.2,random_state=2)"
   ]
  },
  {
   "cell_type": "code",
   "execution_count": 60,
   "metadata": {},
   "outputs": [],
   "source": [
    "from sklearn.neighbors import KNeighborsClassifier\n",
    "clf_distance = KNeighborsClassifier(n_neighbors=5, metric='minkowski', weights='distance', p=1)\n",
    "# , metric='minkowski'"
   ]
  },
  {
   "cell_type": "code",
   "execution_count": 61,
   "metadata": {},
   "outputs": [],
   "source": [
    "clf_distance.fit(X_train, y_train)\n",
    "predicted_distance = clf_distance.predict(X_test)"
   ]
  },
  {
   "cell_type": "code",
   "execution_count": 62,
   "metadata": {},
   "outputs": [
    {
     "data": {
      "text/plain": [
       "array([0, 1, 0, 1, 0, 1, 0, 0, 0, 0, 0, 0, 1, 0, 0, 1, 0, 1, 0, 0, 0, 0,\n",
       "       0, 0, 0, 1, 0, 0, 0, 0, 0, 1, 1, 0, 0, 0, 0, 0, 1, 1, 0, 0, 0, 0,\n",
       "       0, 1, 0, 0, 0, 0, 0, 0, 0, 0, 0, 1, 1], dtype=int64)"
      ]
     },
     "execution_count": 62,
     "metadata": {},
     "output_type": "execute_result"
    }
   ],
   "source": [
    "predicted_distance"
   ]
  },
  {
   "cell_type": "code",
   "execution_count": 63,
   "metadata": {},
   "outputs": [
    {
     "data": {
      "text/plain": [
       "array([0, 1, 0, 1, 1, 0, 0, 0, 0, 1, 0, 0, 0, 1, 0, 1, 0, 1, 0, 0, 0, 1,\n",
       "       0, 0, 0, 0, 0, 0, 0, 0, 0, 1, 1, 0, 1, 0, 0, 0, 1, 1, 1, 0, 0, 0,\n",
       "       0, 1, 0, 0, 0, 0, 0, 0, 0, 0, 0, 1, 1], dtype=int64)"
      ]
     },
     "execution_count": 63,
     "metadata": {},
     "output_type": "execute_result"
    }
   ],
   "source": [
    "y_test"
   ]
  },
  {
   "cell_type": "code",
   "execution_count": 64,
   "metadata": {},
   "outputs": [
    {
     "data": {
      "text/plain": [
       "((57,), (225,))"
      ]
     },
     "execution_count": 64,
     "metadata": {},
     "output_type": "execute_result"
    }
   ],
   "source": [
    "predicted_distance.shape, y_train.shape"
   ]
  },
  {
   "cell_type": "code",
   "execution_count": 65,
   "metadata": {},
   "outputs": [
    {
     "name": "stdout",
     "output_type": "stream",
     "text": [
      "[[37  3]\n",
      " [ 6 11]]\n"
     ]
    }
   ],
   "source": [
    "cm_d = confusion_matrix(y_test,predicted_distance)\n",
    "print(cm_d)"
   ]
  },
  {
   "cell_type": "code",
   "execution_count": 66,
   "metadata": {},
   "outputs": [
    {
     "name": "stdout",
     "output_type": "stream",
     "text": [
      "[Train/test split] score following distance weight: 0.84\n"
     ]
    }
   ],
   "source": [
    "print(\"[Train/test split] score following distance weight: {:.2f}\".format(clf_distance.score(X_test, y_test)))"
   ]
  },
  {
   "cell_type": "code",
   "execution_count": 67,
   "metadata": {
    "scrolled": true
   },
   "outputs": [
    {
     "name": "stdout",
     "output_type": "stream",
     "text": [
      "              precision    recall  f1-score   support\n",
      "\n",
      "           0       0.86      0.93      0.89        40\n",
      "           1       0.79      0.65      0.71        17\n",
      "\n",
      "    accuracy                           0.84        57\n",
      "   macro avg       0.82      0.79      0.80        57\n",
      "weighted avg       0.84      0.84      0.84        57\n",
      "\n"
     ]
    }
   ],
   "source": [
    "print(classification_report(y_test,predicted_distance))"
   ]
  },
  {
   "cell_type": "markdown",
   "metadata": {},
   "source": [
    "## KNN Hyperparameter Tuning and Visualization"
   ]
  },
  {
   "cell_type": "markdown",
   "metadata": {},
   "source": [
    "### Crosschecking with n_neighbours=5, weight= \"distance\", p=2"
   ]
  },
  {
   "cell_type": "code",
   "execution_count": 68,
   "metadata": {},
   "outputs": [
    {
     "name": "stdout",
     "output_type": "stream",
     "text": [
      "[Train/test split] score following distance weight: 0.81\n"
     ]
    }
   ],
   "source": [
    "clf_distance = KNeighborsClassifier(n_neighbors=5, metric='minkowski', weights='distance', p=2)\n",
    "clf_distance.fit(X_train, y_train)\n",
    "predicted_distance = clf_distance.predict(X_test)\n",
    "print(\"[Train/test split] score following distance weight: {:.2f}\".format(clf_distance.score(X_test, y_test)))"
   ]
  },
  {
   "cell_type": "markdown",
   "metadata": {},
   "source": [
    "### Crosschecking with n_neighbours=5, weight= \"distance\", p=5"
   ]
  },
  {
   "cell_type": "code",
   "execution_count": 69,
   "metadata": {},
   "outputs": [
    {
     "name": "stdout",
     "output_type": "stream",
     "text": [
      "[Train/test split] score following distance weight: 0.82\n"
     ]
    }
   ],
   "source": [
    "clf_distance = KNeighborsClassifier(n_neighbors=5, metric='minkowski', weights='distance', p=5)\n",
    "clf_distance.fit(X_train, y_train)\n",
    "predicted_distance = clf_distance.predict(X_test)\n",
    "print(\"[Train/test split] score following distance weight: {:.2f}\".format(clf_distance.score(X_test, y_test)))"
   ]
  },
  {
   "cell_type": "markdown",
   "metadata": {},
   "source": [
    "### Crosschecking with n_neighbours=3, weight= \"distance\", p=1"
   ]
  },
  {
   "cell_type": "code",
   "execution_count": 70,
   "metadata": {},
   "outputs": [],
   "source": [
    "# So far, weight=distance, p=1 is showing the better fit. \n",
    "# So changing the n_neighours only for p=1, weight=distance to find out best fit"
   ]
  },
  {
   "cell_type": "code",
   "execution_count": 71,
   "metadata": {},
   "outputs": [
    {
     "name": "stdout",
     "output_type": "stream",
     "text": [
      "[Train/test split] score following distance weight: 0.84\n"
     ]
    }
   ],
   "source": [
    "clf_distance = KNeighborsClassifier(n_neighbors=3, metric='minkowski', weights='distance', p=1)\n",
    "clf_distance.fit(X_train, y_train)\n",
    "predicted_distance = clf_distance.predict(X_test)\n",
    "print(\"[Train/test split] score following distance weight: {:.2f}\".format(clf_distance.score(X_test, y_test)))"
   ]
  },
  {
   "cell_type": "code",
   "execution_count": 72,
   "metadata": {},
   "outputs": [
    {
     "name": "stdout",
     "output_type": "stream",
     "text": [
      "[Train/test split] score following distance weight: 0.82\n"
     ]
    }
   ],
   "source": [
    "clf_distance = KNeighborsClassifier(n_neighbors=7, metric='minkowski', weights='distance', p=1)\n",
    "clf_distance.fit(X_train, y_train)\n",
    "predicted_distance = clf_distance.predict(X_test)\n",
    "print(\"[Train/test split] score following distance weight: {:.2f}\".format(clf_distance.score(X_test, y_test)))"
   ]
  },
  {
   "cell_type": "code",
   "execution_count": null,
   "metadata": {},
   "outputs": [],
   "source": []
  },
  {
   "cell_type": "markdown",
   "metadata": {},
   "source": [
    "### Crosschecking with n_neighbours=5, weight= \"uniform\", p=1"
   ]
  },
  {
   "cell_type": "code",
   "execution_count": 73,
   "metadata": {},
   "outputs": [
    {
     "name": "stdout",
     "output_type": "stream",
     "text": [
      "[Train/test split] score following uniform weight: 0.86\n"
     ]
    }
   ],
   "source": [
    "clf_uniform = KNeighborsClassifier(n_neighbors=5,metric='minkowski', weights='uniform', p=1)\n",
    "clf_uniform.fit(X_train, y_train)\n",
    "predicted_uniform = clf_uniform.predict(X_test)\n",
    "print(\"[Train/test split] score following uniform weight: {:.2f}\".format(clf_uniform.score(X_test, y_test)))"
   ]
  },
  {
   "cell_type": "markdown",
   "metadata": {},
   "source": [
    "### Crosschecking with n_neighbours=5, weight= \"uniform\", p=2"
   ]
  },
  {
   "cell_type": "code",
   "execution_count": 74,
   "metadata": {},
   "outputs": [
    {
     "name": "stdout",
     "output_type": "stream",
     "text": [
      "[Train/test split] score following uniform weight: 0.84\n"
     ]
    }
   ],
   "source": [
    "clf_uniform = KNeighborsClassifier(n_neighbors=5,metric='minkowski', weights='uniform', p=2)\n",
    "clf_uniform.fit(X_train, y_train)\n",
    "predicted_uniform = clf_uniform.predict(X_test)\n",
    "print(\"[Train/test split] score following uniform weight: {:.2f}\".format(clf_uniform.score(X_test, y_test)))"
   ]
  },
  {
   "cell_type": "markdown",
   "metadata": {},
   "source": [
    "### Crosschecking with n_neighbours=5, weight= \"uniform\", p=5"
   ]
  },
  {
   "cell_type": "code",
   "execution_count": 75,
   "metadata": {},
   "outputs": [
    {
     "name": "stdout",
     "output_type": "stream",
     "text": [
      "[Train/test split] score following uniform weight: 0.84\n"
     ]
    }
   ],
   "source": [
    "clf_uniform = KNeighborsClassifier(n_neighbors=5,metric='minkowski', weights='uniform', p=5)\n",
    "clf_uniform.fit(X_train, y_train)\n",
    "predicted_uniform = clf_uniform.predict(X_test)\n",
    "print(\"[Train/test split] score following uniform weight: {:.2f}\".format(clf_uniform.score(X_test, y_test)))"
   ]
  },
  {
   "cell_type": "code",
   "execution_count": 76,
   "metadata": {},
   "outputs": [],
   "source": [
    "# So far, weight=uniform, p=1 is showing the best fit. \n",
    "# So changing the n_neighours only for p=1, weight=uniform to find out best fit"
   ]
  },
  {
   "cell_type": "markdown",
   "metadata": {},
   "source": [
    "### Crosschecking with n_neighbours=3, weight= \"uniform\", p=1"
   ]
  },
  {
   "cell_type": "code",
   "execution_count": 77,
   "metadata": {},
   "outputs": [
    {
     "name": "stdout",
     "output_type": "stream",
     "text": [
      "[Train/test split] score following uniform weight: 0.84\n"
     ]
    }
   ],
   "source": [
    "clf_uniform = KNeighborsClassifier(n_neighbors=3,metric='minkowski', weights='uniform', p=1)\n",
    "clf_uniform.fit(X_train, y_train)\n",
    "predicted_uniform = clf_uniform.predict(X_test)\n",
    "print(\"[Train/test split] score following uniform weight: {:.2f}\".format(clf_uniform.score(X_test, y_test)))"
   ]
  },
  {
   "cell_type": "markdown",
   "metadata": {},
   "source": [
    "### Crosschecking with n_neighbours=7, weight= \"uniform\", p=1"
   ]
  },
  {
   "cell_type": "code",
   "execution_count": 78,
   "metadata": {},
   "outputs": [
    {
     "name": "stdout",
     "output_type": "stream",
     "text": [
      "[Train/test split] score following uniform weight: 0.81\n"
     ]
    }
   ],
   "source": [
    "clf_uniform = KNeighborsClassifier(n_neighbors=7,metric='minkowski', weights='uniform', p=1)\n",
    "clf_uniform.fit(X_train, y_train)\n",
    "predicted_uniform = clf_uniform.predict(X_test)\n",
    "print(\"[Train/test split] score following uniform weight: {:.2f}\".format(clf_uniform.score(X_test, y_test)))"
   ]
  },
  {
   "cell_type": "code",
   "execution_count": 79,
   "metadata": {},
   "outputs": [],
   "source": [
    "# So from all trial and errors, it is obvious that \n",
    "# n_neighbours=5, weight= \"uniform\", p=1 is the best parameters for this data-set"
   ]
  },
  {
   "cell_type": "markdown",
   "metadata": {},
   "source": [
    "## Selected Features for KNN Model"
   ]
  },
  {
   "cell_type": "code",
   "execution_count": 80,
   "metadata": {},
   "outputs": [
    {
     "name": "stdout",
     "output_type": "stream",
     "text": [
      "[Train/test split] score following uniform weight: 0.86\n"
     ]
    }
   ],
   "source": [
    "clf_uniform = KNeighborsClassifier(n_neighbors=5,metric='minkowski', weights='uniform', p=1)\n",
    "clf_uniform.fit(X_train, y_train)\n",
    "predicted_uniform = clf_uniform.predict(X_test)\n",
    "print(\"[Train/test split] score following uniform weight: {:.2f}\".format(clf_uniform.score(X_test, y_test)))"
   ]
  },
  {
   "cell_type": "markdown",
   "metadata": {},
   "source": [
    "## Cross-checking Feature Selection With Hill-Climbing Technique"
   ]
  },
  {
   "cell_type": "code",
   "execution_count": 81,
   "metadata": {},
   "outputs": [
    {
     "name": "stdout",
     "output_type": "stream",
     "text": [
      "[4, 0, 10, 5, 3, 1, 9, 7, 11, 2, 6, 12, 8]\n",
      "Index(['age', 'anaemia', 'creatinine_phosphokinase', 'diabetes',\n",
      "       'ejection_fraction', 'high_blood_pressure', 'platelets',\n",
      "       'serum_creatinine', 'serum_sodium', 'sex', 'smoking', 'time',\n",
      "       'DEATH_EVENT'],\n",
      "      dtype='object')\n"
     ]
    }
   ],
   "source": [
    "from sklearn.utils import shuffle\n",
    "new_Ind = []\n",
    "cur_MaxScore = 0.0\n",
    "col_num = 13\n",
    "col_Ind_Random = shuffle(range(0,col_num), random_state=2)\n",
    "print(col_Ind_Random)\n",
    "print(heartFailure.columns)"
   ]
  },
  {
   "cell_type": "code",
   "execution_count": 82,
   "metadata": {},
   "outputs": [
    {
     "name": "stdout",
     "output_type": "stream",
     "text": [
      "Score with 1(feature: 4) selected features: 0.79\n",
      "Score with 2(feature: 0) selected features: 0.79\n",
      "Score with 3(feature: 10) selected features: 0.82\n",
      "Score with 4(feature: 7) selected features: 0.84\n",
      "Score with 5(feature: 11) selected features: 0.95\n",
      "Score with 6(feature: 12) selected features: 0.95\n",
      "Score with 7(feature: 8) selected features: 0.96\n"
     ]
    }
   ],
   "source": [
    "for cur_f in range(0, col_num):\n",
    "    new_Ind.append(col_Ind_Random[cur_f])\n",
    "    newData = heartFailure.iloc[:,new_Ind]\n",
    "    #print(newData)\n",
    "    X_train, X_test, y_train, y_test=train_test_split(newData,y, test_size=.2,random_state=0)\n",
    "    fit = clf_distance.fit(X_train, y_train)\n",
    "    cur_Score = clf_distance.score(X_test, y_test)\n",
    "    if cur_Score < cur_MaxScore:\n",
    "        new_Ind.remove(col_Ind_Random[cur_f])\n",
    "    else:\n",
    "        cur_MaxScore = cur_Score\n",
    "        print(\"Score with \" + str(len(new_Ind)) + \"(feature: \" + str(col_Ind_Random[cur_f])+ \") selected features: \" + str(round(cur_Score,2)))"
   ]
  },
  {
   "cell_type": "markdown",
   "metadata": {},
   "source": [
    "## K-Folds Cross-Validation"
   ]
  },
  {
   "cell_type": "code",
   "execution_count": 83,
   "metadata": {},
   "outputs": [
    {
     "name": "stderr",
     "output_type": "stream",
     "text": [
      "C:\\Users\\snk_n\\anaconda3\\lib\\site-packages\\sklearn\\model_selection\\_split.py:293: FutureWarning: Setting a random_state has no effect since shuffle is False. This will raise an error in 0.24. You should leave random_state to its default (None), or set shuffle=True.\n",
      "  warnings.warn(\n"
     ]
    }
   ],
   "source": [
    "from sklearn.model_selection import KFold\n",
    "kf = KFold(n_splits=10,random_state=4)"
   ]
  },
  {
   "cell_type": "markdown",
   "metadata": {},
   "source": [
    "## Validation of Decision Tree Model"
   ]
  },
  {
   "cell_type": "code",
   "execution_count": 84,
   "metadata": {},
   "outputs": [
    {
     "name": "stdout",
     "output_type": "stream",
     "text": [
      "[fold 0] score: 0.897\n",
      "[fold 1] score: 0.690\n",
      "[fold 2] score: 0.571\n",
      "[fold 3] score: 0.750\n",
      "[fold 4] score: 0.786\n",
      "[fold 5] score: 0.786\n",
      "[fold 6] score: 0.714\n",
      "[fold 7] score: 0.750\n",
      "[fold 8] score: 0.821\n",
      "[fold 9] score: 1.000\n"
     ]
    }
   ],
   "source": [
    "for k, (train_index, test_index) in enumerate(kf.split(heartFailure1)):\n",
    "    X_train, X_test = X[train_index], X[test_index]\n",
    "    y_train, y_test = y[train_index], y[test_index]\n",
    "    clf_entropy.fit(X_train, y_train)\n",
    "    print(\"[fold {0}] score: {1:.3f}\".format(k, clf_entropy.score(X_test, y_test)))"
   ]
  },
  {
   "cell_type": "markdown",
   "metadata": {},
   "source": [
    "## Validation of K-Neighbourhood Model"
   ]
  },
  {
   "cell_type": "code",
   "execution_count": 85,
   "metadata": {},
   "outputs": [
    {
     "name": "stdout",
     "output_type": "stream",
     "text": [
      "[fold 0] score: 0.897\n",
      "[fold 1] score: 0.759\n",
      "[fold 2] score: 0.750\n",
      "[fold 3] score: 0.750\n",
      "[fold 4] score: 0.786\n",
      "[fold 5] score: 0.821\n",
      "[fold 6] score: 0.750\n",
      "[fold 7] score: 0.893\n",
      "[fold 8] score: 0.893\n",
      "[fold 9] score: 1.000\n"
     ]
    }
   ],
   "source": [
    "for k, (train_index, test_index) in enumerate(kf.split(heartFailure1)):\n",
    "    X_train, X_test = X[train_index], X[test_index]\n",
    "    y_train, y_test = y[train_index], y[test_index]\n",
    "    clf_distance.fit(X_train, y_train)\n",
    "    print(\"[fold {0}] score: {1:.3f}\".format(k, clf_distance.score(X_test, y_test)))"
   ]
  },
  {
   "cell_type": "code",
   "execution_count": null,
   "metadata": {},
   "outputs": [],
   "source": []
  }
 ],
 "metadata": {
  "kernelspec": {
   "display_name": "Python 3",
   "language": "python",
   "name": "python3"
  },
  "language_info": {
   "codemirror_mode": {
    "name": "ipython",
    "version": 3
   },
   "file_extension": ".py",
   "mimetype": "text/x-python",
   "name": "python",
   "nbconvert_exporter": "python",
   "pygments_lexer": "ipython3",
   "version": "3.8.5"
  }
 },
 "nbformat": 4,
 "nbformat_minor": 4
}
